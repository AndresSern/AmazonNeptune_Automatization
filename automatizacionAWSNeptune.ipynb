{
 "cells": [
  {
   "cell_type": "code",
   "execution_count": null,
   "source": [
    "pip install xlrd==1.2.0"
   ],
   "outputs": [],
   "metadata": {}
  },
  {
   "cell_type": "code",
   "execution_count": null,
   "source": [
    "def creatingVertex(data):\r\n",
    "    for index,row in data.iterrows():\r\n",
    "        g.addV('PERSONA').\\\r\n",
    "        property(T.id,str(row[\"id\"])).\\\r\n",
    "        property(\"name\",row[\"name\"]).\\\r\n",
    "        property(\"nickname\", row[\"nickname\"]).next()\r\n",
    "\r\n",
    "def creatingEdge(checkUnion):\r\n",
    "    for indexRow, row in enumerate(checkUnion):\r\n",
    "        if not True in row:\r\n",
    "            continue\r\n",
    "        for indexColumn, column in enumerate(row):\r\n",
    "            if column == True:\r\n",
    "                client= g.V(str(int(indexRow + 1))).toList()[0]\r\n",
    "                finalClient = g.V(str(int(indexColumn + 1))).toList()[0]\r\n",
    "                \r\n",
    "                g.V(client).addE('PERSONA').to(finalClient).property('weight',0.75).iterate()"
   ],
   "outputs": [],
   "metadata": {}
  },
  {
   "cell_type": "code",
   "execution_count": null,
   "source": [
    "from __future__  import print_function  # Python 2/3 compatibility\r\n",
    "from gremlin_python.structure.graph import Graph\r\n",
    "from gremlin_python.process.graph_traversal import __\r\n",
    "from gremlin_python.process.strategies import *\r\n",
    "from gremlin_python.driver.driver_remote_connection import DriverRemoteConnection\r\n",
    "from gremlin_python.process.traversal import T\r\n",
    "import pandas as pd\r\n",
    "\r\n",
    "graph = Graph()\r\n",
    "\r\n",
    "neptuneEndpoint=\"your-neptune-endpoint\"\r\n",
    "remoteConn = DriverRemoteConnection(f'wss://{neptuneEndpoint}:8182/gremlin','g')\r\n",
    "g = graph.traversal().withRemote(remoteConn)\r\n",
    "\r\n",
    "namesHeader = [\"nickname\", \"id\", \"name\"]\r\n",
    "fileXLSX = \"./Matriz_de_adyacencia_data_team.xlsx\"\r\n",
    "\r\n",
    "checkFile= False\r\n",
    "\r\n",
    "try:\r\n",
    "    listaDeActores = pd.read_excel(fileXLSX, \"Lista de actores\", header=2, names=namesHeader)\r\n",
    "    matrizDeAdyacencia = pd.read_excel(fileXLSX, \"Matriz de adyacencia\", header=1)\r\n",
    "    \r\n",
    "    checkFile = True\r\n",
    "    \r\n",
    "except FileNotFoundError:\r\n",
    "    checkFile = False\r\n",
    "\r\n",
    "if checkFile:\r\n",
    "    checkUnion = (matrizDeAdyacencia.values > 0 ).tolist()\r\n",
    "\r\n",
    "    g.V().drop().iterate()\r\n",
    "\r\n",
    "    creatingVertex(listaDeActores)\r\n",
    "    creatingEdge(checkUnion)\r\n",
    "\r\n",
    "    print(g.V().limit(100).toList()) # Showing all Vertex with the Id\r\n",
    "    print(g.V().count().next()) # Showing the number of vertices \r\n",
    "    print(g.V().outE().elementMap().toList()) # Showing all the edges\r\n",
    "\r\n",
    "else:\r\n",
    "    print(f\"The File called {fileXLSX} Doen't Exist \")\r\n",
    "\r\n",
    "remoteConn.close()\r\n"
   ],
   "outputs": [],
   "metadata": {}
  },
  {
   "cell_type": "code",
   "execution_count": null,
   "source": [
    "%%graph_notebook_config\r\n",
    "{\r\n",
    "  \"host\": \"your-neptune-enpoint\",\r\n",
    "  \"port\": 8182,\r\n",
    "  \"auth_mode\": \"DEFAULT\",\r\n",
    "  \"load_from_s3_arn\": \"\",\r\n",
    "  \"ssl\": true,\r\n",
    "  \"aws_region\": \"us-east-1a\"\r\n",
    "}\r\n"
   ],
   "outputs": [],
   "metadata": {
    "scrolled": true
   }
  },
  {
   "cell_type": "code",
   "execution_count": null,
   "source": [
    "%%gremlin -p v,ine,outv,oute,inv,oute,inv\n",
    "g.V().hasLabel(\"PERSONA\").inE().outV().outE().inV().outE().inV().path().by(\"name\").by(label)"
   ],
   "outputs": [],
   "metadata": {
    "scrolled": true
   }
  },
  {
   "cell_type": "code",
   "execution_count": null,
   "source": [],
   "outputs": [],
   "metadata": {}
  }
 ],
 "metadata": {
  "kernelspec": {
   "display_name": "Python 3",
   "language": "python",
   "name": "python3"
  },
  "language_info": {
   "codemirror_mode": {
    "name": "ipython",
    "version": 3
   },
   "file_extension": ".py",
   "mimetype": "text/x-python",
   "name": "python",
   "nbconvert_exporter": "python",
   "pygments_lexer": "ipython3",
   "version": "3.6.13"
  }
 },
 "nbformat": 4,
 "nbformat_minor": 5
}